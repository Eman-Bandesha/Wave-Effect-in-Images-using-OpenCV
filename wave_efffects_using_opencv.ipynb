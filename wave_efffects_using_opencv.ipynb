{
  "nbformat": 4,
  "nbformat_minor": 0,
  "metadata": {
    "colab": {
      "provenance": []
    },
    "kernelspec": {
      "name": "python3",
      "display_name": "Python 3"
    },
    "language_info": {
      "name": "python"
    }
  },
  "cells": [
    {
      "cell_type": "code",
      "source": [
        "import cv2\n",
        "import numpy as np\n",
        "import math"
      ],
      "metadata": {
        "id": "PapWlJfZyJ3I"
      },
      "execution_count": 1,
      "outputs": []
    },
    {
      "cell_type": "code",
      "source": [
        "def horizontal_wave(image_path):\n",
        "    img = cv2.imread(image_path)\n",
        "    height, width, _ = img.shape\n",
        "    img_output = np.zeros(img.shape, dtype=img.dtype)\n",
        "\n",
        "    for i in range(height):\n",
        "        for j in range(width):\n",
        "            offset_x = 0\n",
        "            # Increase the coefficient from 2 to increase number of the frequencies\n",
        "            offset_y = int(16.0 * math.sin(2 * 3.14 * j / 150))\n",
        "            if i + offset_y < height:\n",
        "                img_output[i, j] = img[(i + offset_y) % height, j]\n",
        "            else:\n",
        "                img_output[i, j] = img[height - 1, j]\n",
        "\n",
        "    cv2.imwrite('/content/result/Horizontal_wave.jpg', img_output)\n",
        "\n",
        "#Inferencing\n",
        "horizontal_wave('/content/image2.jpeg')"
      ],
      "metadata": {
        "id": "UjDI0FZ-yXQz"
      },
      "execution_count": 16,
      "outputs": []
    },
    {
      "cell_type": "code",
      "source": [
        "def vertical_wave(image_path):\n",
        "    img = cv2.imread(image_path)\n",
        "    height, width, _ = img.shape\n",
        "    img_output = np.zeros(img.shape, dtype=img.dtype)\n",
        "\n",
        "    for i in range(height):\n",
        "        for j in range(width):\n",
        "            offset_y = 0\n",
        "            # Increase the coefficient from 2 to increase number of the frequencies\n",
        "            offset_x = int(16.0 * math.sin(2 * 3.14 * i / 150))\n",
        "            if j + offset_x < width:\n",
        "                img_output[i, j] = img[i, (j + offset_x) % width]\n",
        "            else:\n",
        "                img_output[i, j] = img[i, width - 1]\n",
        "\n",
        "    cv2.imwrite('/content/result/Vertical_wave.jpg', img_output)\n",
        "\n",
        "# Example usage:\n",
        "vertical_wave('/content/image2.jpeg')"
      ],
      "metadata": {
        "id": "DauQr-n3zqPV"
      },
      "execution_count": 17,
      "outputs": []
    },
    {
      "cell_type": "code",
      "source": [
        "\n",
        "def horizontal_and_vertical_wave(image_path):\n",
        "    img = cv2.imread(image_path)\n",
        "    height, width, _ = img.shape\n",
        "    img_output = np.zeros(img.shape, dtype=img.dtype)\n",
        "\n",
        "    for i in range(height):\n",
        "        for j in range(width):\n",
        "            # Increase the coefficient from 2 to increase number of the frequencies\n",
        "            offset_x = int(16.0 * math.sin(2 * 3.14 * i / 150))\n",
        "            offset_y = int(16.0 * math.sin(2 * 3.14 * j / 150))\n",
        "\n",
        "            new_i = i + offset_y\n",
        "            new_j = j + offset_x\n",
        "\n",
        "            if new_i >= 0 and new_i < height and new_j >= 0 and new_j < width:\n",
        "                img_output[i, j] = img[new_i, new_j]\n",
        "            elif new_i < 0:\n",
        "                img_output[i, j] = img[0, new_j]\n",
        "            elif new_i >= height:\n",
        "                img_output[i, j] = img[height - 1, new_j]\n",
        "            elif new_j < 0:\n",
        "                img_output[i, j] = img[new_i, 0]\n",
        "            else:\n",
        "                img_output[i, j] = img[new_i, width - 1]\n",
        "\n",
        "    cv2.imwrite('/content/result/Wave_effect.jpg', img_output)\n",
        "\n",
        "\n",
        "#Inferencing\n",
        "horizontal_and_vertical_wave('/content/image2.jpeg')"
      ],
      "metadata": {
        "id": "aV76ABJr1cYH"
      },
      "execution_count": 18,
      "outputs": []
    },
    {
      "cell_type": "code",
      "source": [],
      "metadata": {
        "id": "wBxtV3Dr1nF2"
      },
      "execution_count": null,
      "outputs": []
    }
  ]
}